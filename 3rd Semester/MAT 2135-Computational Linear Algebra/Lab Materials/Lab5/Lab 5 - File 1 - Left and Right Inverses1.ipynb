{
 "cells": [
  {
   "cell_type": "markdown",
   "id": "68280c56",
   "metadata": {},
   "source": [
    "\n",
    "# Left and Right Inverses of a Matrix \n",
    "\n",
    "\n",
    "\n",
    "## Quick definitions\n",
    "- A **left inverse** of $A$ is a matrix $L$  such that $LA = I$. It exists when $A$ has **full column rank** (e.g., a *tall* matrix, more rows than columns). $m$>>$n$\n",
    "- A **right inverse** of $A$ is a matrix $R$ such that $AR = I$. It exists when $A$ has **full row rank** (e.g., a *wide* matrix, more columns than rows). $m$<<$n$\n",
    "- When $A$ is square and invertible, $A^{-1}$ is both a left and a right inverse.\n",
    "\n",
    "**Least squares (tall matrices):** For full column rank, the canonical left inverse is $L = (A^\\top A)^{-1}A^\\top$. Then the least‑squares solution to $Ax = b$ is $x = Lb$, and $Ax$ is the orthogonal **projection of $b$ onto Col(A)**.\n",
    "\n",
    "**Minimum norm (wide matrices):** For full row rank, a right inverse is $R = A^\\top(AA^\\top)^{-1}$. Then one solution of $Ax = b$ is $x = Rb$. \n",
    "\n",
    "\n",
    " \n"
   ]
  },
  {
   "cell_type": "markdown",
   "id": "cf5b5cc5-a3b4-4c39-bbad-8be0a8df8832",
   "metadata": {},
   "source": [
    "When to prefer computing the right inverse directly\n",
    "1) The matrix is wide $(m≪n)$ and full row rank\n",
    "If A is $m\\times n$ with $m≪n$, computing the right inverse via\n",
    "$R=A^⊤(AA^⊤)^{−1}$\n",
    "requires inverting only an $m\\times m$ matrix $AA^⊤$, which is much cheaper than anything that touches an $n \\times n$ object.\n",
    "\n",
    "\n",
    "\n",
    "\n",
    "Example scenario:\n",
    "$m=100$, $n=100,000$.\n",
    "\n",
    "$AA^⊤$ is $100\\times 100$ →  tractable.\n",
    "$A^⊤A$ is $100,000\\times 100,000$ → infeasible."
   ]
  },
  {
   "cell_type": "markdown",
   "id": "4c47849c",
   "metadata": {},
   "source": [
    "\n",
    "## Setup\n",
    "We will use only NumPy to keep things lightweight. Utility helpers are included to check identities and orthogonality numerically (within a tolerance).\n"
   ]
  },
  {
   "cell_type": "code",
   "execution_count": 11,
   "id": "d67f2ff0",
   "metadata": {},
   "outputs": [],
   "source": [
    "\n",
    "import numpy as np\n",
    "\n",
    "def is_close(A, B, tol=1e-9):\n",
    "    return np.allclose(A, B, atol=tol, rtol=0)\n",
    "\n",
    "def print_matrix(name, M):\n",
    "    print(f\"{name}\\nShape={M.shape}\\n{M}\")\n",
    "\n",
    "def orthogonality_check(A, r, tol=1e-9):\n",
    "    v = A.T @ r\n",
    "    print(f\"||A^T r||_2 = {np.linalg.norm(v):.3e} (should be ~ 0 if residual is orthogonal to col(A)) \")\n",
    "\n",
    "np.set_printoptions(precision=4, suppress=True)\n"
   ]
  },
  {
   "cell_type": "markdown",
   "id": "0109cca1",
   "metadata": {},
   "source": [
    "\n",
    "## 1) Tall matrix (full column rank) → Left inverse & least squares geometry\n",
    "**Theory:** If $A\\in\\mathbb{R}^{m\\times n}$ with $m>n$ and full column rank, then $L=(A^\\top A)^{-1}A^\\top$ satisfies $LA=I_n$. For any $b\\in\\mathbb{R}^m$, the least‑squares solution is $x=Lb$. The fitted vector $\\hat b=Ax$ is the **orthogonal projection** of $b$ onto $\\\\operatorname{col}(A)$, and the residual $r=b-\\hat b$ is orthogonal to that space (i.e., $A^\\top r=0$).\n"
   ]
  },
  {
   "cell_type": "code",
   "execution_count": 5,
   "id": "b2cc1f39",
   "metadata": {},
   "outputs": [
    {
     "name": "stdout",
     "output_type": "stream",
     "text": [
      "A_tall shape=(3, 2) [[1. 2.]\n",
      " [3. 4.]\n",
      " [5. 7.]] \n",
      "Left inverse L = (A^T A)^{-1} A^T shape=(2, 3) [[-2.0714  0.7857  0.1429]\n",
      " [ 1.5    -0.5     0.    ]] \n",
      "Check L A = I:  True\n",
      "b shape=(3,) [ 2.  1. -1.] \n",
      "x_ls (least squares) shape=(2,) [-3.5  2.5] \n",
      "b_hat = A x_ls (projection of b onto col(A)) shape=(3,) [ 1.5 -0.5 -0. ] \n",
      "Residual r = b - b_hat shape=(3,) [ 0.5  1.5 -1. ] \n",
      "||A^T r||_2 = 8.967e-14 (should be ~ 0 if residual is orthogonal to col(A)) \n"
     ]
    }
   ],
   "source": [
    "# A simple tall matrix (3x2) with full column rank\n",
    "A_tall = np.array([[1., 2.],\n",
    "                   [3., 4.],\n",
    "                   [5., 7.]])\n",
    "\n",
    "# Left inverse via normal equations (for didactic purposes)\n",
    "L = np.linalg.inv(A_tall.T @ A_tall) @ A_tall.T\n",
    "\n",
    "print_matrix('A_tall', A_tall)\n",
    "print_matrix('Left inverse L = (A^T A)^{-1} A^T', L)\n",
    "print('Check L A = I: ', is_close(L @ A_tall, np.eye(A_tall.shape[1])))\n",
    "\n",
    "# Least squares for Ax = b\n",
    "b = np.array([2., 1., -1.])\n",
    "x_ls = L @ b\n",
    "b_hat = A_tall @ x_ls\n",
    "r = b - b_hat\n",
    "\n",
    "print_matrix('b', b)\n",
    "print_matrix('x_ls (least squares)', x_ls)\n",
    "print_matrix('b_hat = A x_ls (projection of b onto col(A))', b_hat)\n",
    "print_matrix('Residual r = b - b_hat', r)\n",
    "orthogonality_check(A_tall, r)\n"
   ]
  },
  {
   "cell_type": "markdown",
   "id": "f0d18361",
   "metadata": {},
   "source": [
    "\n",
    "## 2) Wide matrix (full row rank) → Right inverse & families of solutions\n",
    "**Theory:** If $A\\in\\mathbb{R}^{m\\times n}$ with $m<n$ and full row rank, then $R=A^\\top(AA^\\top)^{-1}$ satisfies $AR=I_m$. Given $b\\in\\mathbb{R}^m$, one solution to $Ax=b$ is $x=Rb$. In fact, **all** solutions are $x=Rb+z$ for any $z\\in\\\\mathcal{N}(A)$ (the nullspace). The pseudoinverse $A^+$ returns the **minimum‑norm** solution among these.\n"
   ]
  },
  {
   "cell_type": "code",
   "execution_count": 26,
   "id": "95a5d73b",
   "metadata": {},
   "outputs": [
    {
     "name": "stdout",
     "output_type": "stream",
     "text": [
      "A_wide\n",
      "Shape=(2, 3)\n",
      "[[1. 2. 3.]\n",
      " [4. 5. 6.]]\n",
      "\n",
      "Right inverse R = A^T (A A^T)^{-1}\n",
      "Shape=(3, 2)\n",
      "[[-0.9444  0.4444]\n",
      " [-0.1111  0.1111]\n",
      " [ 0.7222 -0.2222]]\n",
      "\n",
      "Check A R = I:  True\n",
      "b2\n",
      "Shape=(2,)\n",
      "[ 1. -1.]\n",
      "\n",
      "One solution x0 = R b2\n",
      "Shape=(3,)\n",
      "[-1.3889 -0.2222  0.9444]\n",
      "\n",
      "A x0 (should equal b2)\n",
      "Shape=(2,)\n",
      "[ 1. -1.]\n",
      "\n",
      "A_wide @ nvec (should be ~0)\n",
      "Shape=(2, 1)\n",
      "[[ 0.]\n",
      " [-0.]]\n",
      "\n",
      "x_family (t=3)\n",
      "Shape=(3, 1)\n",
      "[[-0.1641]\n",
      " [-2.6717]\n",
      " [ 2.1692]]\n",
      "\n",
      "A x_family (should equal b2)\n",
      "Shape=(2, 1)\n",
      "[[ 1.]\n",
      " [-1.]]\n",
      "\n"
     ]
    }
   ],
   "source": [
    "\n",
    "# A simple wide matrix (2x3) with full row rank\n",
    "A_wide = np.array([[1., 2., 3.],\n",
    "                  [4., 5., 6.]])\n",
    "\n",
    "# Right inverse via normal equations on rows (for didactic purposes)\n",
    "R = A_wide.T @ np.linalg.inv(A_wide @ A_wide.T)\n",
    "\n",
    "print_matrix('A_wide', A_wide)\n",
    "print_matrix('Right inverse R = A^T (A A^T)^{-1}', R)\n",
    "print('Check A R = I: ', is_close(A_wide @ R, np.eye(A_wide.shape[0])))\n",
    "\n",
    "# Solve Ax = b\n",
    "b2 = np.array([1., -1.])\n",
    "x0 = R @ b2\n",
    "print_matrix('b2', b2)\n",
    "print_matrix('One solution x0 = R b2', x0)\n",
    "print_matrix('A x0 (should equal b2)', A_wide @ x0)\n",
    "\n",
    "# Nullspace via SVD: right singular vectors corresponding to ~zero singular values\n",
    "U, s, Vt = np.linalg.svd(A_wide, full_matrices=True)\n",
    "# For a 2x3 full row rank matrix, nullity = 1; the null vector is the last row of Vt (since s sorted desc)\n",
    "nvec = Vt[-1, :].reshape(-1, 1)  # (3,1)\n",
    "# Verify it's in the nullspace\n",
    "print_matrix('A_wide @ nvec (should be ~0)', A_wide @ nvec)\n",
    "# Family of solutions: x = x0 + nvec * t\n",
    "t = 3.0\n",
    "x_family = x0.reshape(-1,1) + nvec * t\n",
    "print_matrix('x_family (t=3)', x_family)\n",
    "print_matrix('A x_family (should equal b2)', A_wide @ x_family)\n"
   ]
  },
  {
   "cell_type": "markdown",
   "id": "cffe5188",
   "metadata": {},
   "source": [
    "\n",
    "## 3) The transpose trick\n",
    "**Key idea:** If $A$ is tall full‑column‑rank and you computed the left inverse $L=(A^\\top A)^{-1}A^\\top$, then for **the transposed problem** $A^\\top$ (which is wide full‑row‑rank), the matrix **$L^\\top$ is a right inverse of $A^\\top$**, because\n",
    "\n",
    "$$\n",
    "(A^\\top)\\,L^\\top = (LA)^\\top = I^\\top = I.\n",
    "$$\n",
    "\n",
    "This is handy if an algorithm needs both forms but building only one is cheaper or already available.\n"
   ]
  },
  {
   "cell_type": "code",
   "execution_count": 7,
   "id": "9a2ff1bf",
   "metadata": {},
   "outputs": [
    {
     "name": "stdout",
     "output_type": "stream",
     "text": [
      "(A^T) * (L^T) shape=(2, 2) [[1. 0.]\n",
      " [0. 1.]] \n",
      "Is it identity? True\n"
     ]
    }
   ],
   "source": [
    "\n",
    "# Verify the transpose trick with our tall example\n",
    "A = A_tall\n",
    "L = np.linalg.inv(A.T @ A) @ A.T\n",
    "check = A.T @ L.T\n",
    "print_matrix('(A^T) * (L^T)', check)\n",
    "print('Is it identity?', is_close(check, np.eye(A.shape[1])))\n"
   ]
  },
  {
   "cell_type": "markdown",
   "id": "66fbcaaf-8f96-4683-9a78-6d69ac0c3b05",
   "metadata": {},
   "source": [
    "Exercises:\n",
    "1. For a large tall matrix, find right inverse using left inverse (Hint: Use transpose idea). Verify your answer. \n",
    "Give an explicit illustration with $3 \\times 2$ matrix.\n",
    "2. For a large wide matrix, find left inverse using right invese. Verify your answer. Give an explicit illustration with $2 \\times 3$ matrix."
   ]
  },
  {
   "cell_type": "markdown",
   "id": "4b562278-a607-4009-9200-2a0c6b687d83",
   "metadata": {},
   "source": []
  },
  {
   "cell_type": "code",
   "execution_count": 35,
   "id": "3f4028fe",
   "metadata": {},
   "outputs": [
    {
     "name": "stdout",
     "output_type": "stream",
     "text": [
      "L = (A^T A)^{-1} A^T\n",
      " [[ 0.6667 -0.3333  0.3333]\n",
      " [-0.3333  0.6667  0.3333]]\n",
      "\n",
      "R = L^T (right inverse of A^T)\n",
      " [[ 0.6667 -0.3333]\n",
      " [-0.3333  0.6667]\n",
      " [ 0.3333  0.3333]]\n",
      "\n",
      "R_alt (A (A^T A)^{-1})\n",
      " [[ 0.6667 -0.3333]\n",
      " [-0.3333  0.6667]\n",
      " [ 0.3333  0.3333]]\n",
      "\n",
      "Check A^T @ R (should be I_2):\n",
      " [[1. 0.]\n",
      " [0. 1.]]\n"
     ]
    }
   ],
   "source": [
    "A = np.array([[1.,0.],\n",
    "              [0.,1.],\n",
    "              [1.,1.]])\n",
    "\n",
    "# Left inverse of A\n",
    "L = np.linalg.inv(A.T @ A) @ A.T\n",
    "\n",
    "# Right inverse of A^T via transpose trick\n",
    "R = L.T                # same as A @ np.linalg.inv(A.T @ A)\n",
    "R_alt = A @ np.linalg.inv(A.T @ A)\n",
    "\n",
    "print(\"L = (A^T A)^{-1} A^T\\n\", L)\n",
    "print(\"\\nR = L^T (right inverse of A^T)\\n\", R)\n",
    "print(\"\\nR_alt (A (A^T A)^{-1})\\n\", R_alt)\n",
    "\n",
    "print(\"\\nCheck A^T @ R (should be I_2):\\n\", np.round(A.T @ R, 10))\n"
   ]
  },
  {
   "cell_type": "code",
   "execution_count": 40,
   "id": "b4f2d502",
   "metadata": {},
   "outputs": [
    {
     "name": "stdout",
     "output_type": "stream",
     "text": [
      "Left inverse (from transpose idea) * A =\n",
      " [[-21.937  -7.079  -4.613 ... -41.214  36.673  41.391]\n",
      " [  2.15    6.682   1.73  ...   9.293 -12.467  -9.427]\n",
      " [-42.692  36.399  17.871 ... -16.389  -4.075  31.722]\n",
      " ...\n",
      " [ 23.112 -46.1    18.874 ...  25.64   33.51    5.58 ]\n",
      " [ -0.79    6.444 -10.617 ... -12.528  -0.533   4.615]\n",
      " [  2.663   0.287  -1.645 ...   1.486  -3.236  -2.6  ]]\n"
     ]
    }
   ],
   "source": [
    "import numpy as np\n",
    "\n",
    "# Large wide matrix (more columns than rows), full row rank\n",
    "m, n = 5, 800  # 5 rows, 8 columns\n",
    "A_wide = np.random.randn(m, n)\n",
    "\n",
    "# Right inverse: A^T (A A^T)^(-1)\n",
    "right_inverse = A_wide.T @ np.linalg.inv(A_wide @ A_wide.T)\n",
    "\n",
    "# Now, use the transpose trick:\n",
    "# Left inverse of A_wide is the transpose of right inverse of A_wide^T\n",
    "A_T = A_wide.T\n",
    "left_inverse_from_transpose = (A_T.T @ np.linalg.inv(A_T @ A_T.T)).T\n",
    "\n",
    "# Verification: LHS * A = I (m x m)\n",
    "check = left_inverse_from_transpose @ A_wide\n",
    "print(\"Left inverse (from transpose idea) * A =\\n\", np.round(check, 3))\n"
   ]
  },
  {
   "cell_type": "code",
   "execution_count": null,
   "id": "61b40acb",
   "metadata": {},
   "outputs": [],
   "source": []
  },
  {
   "cell_type": "code",
   "execution_count": null,
   "id": "867100c2",
   "metadata": {},
   "outputs": [],
   "source": []
  }
 ],
 "metadata": {
  "kernelspec": {
   "display_name": "Python 3 (ipykernel)",
   "language": "python",
   "name": "python3"
  },
  "language_info": {
   "codemirror_mode": {
    "name": "ipython",
    "version": 3
   },
   "file_extension": ".py",
   "mimetype": "text/x-python",
   "name": "python",
   "nbconvert_exporter": "python",
   "pygments_lexer": "ipython3",
   "version": "3.9.13"
  }
 },
 "nbformat": 4,
 "nbformat_minor": 5
}
