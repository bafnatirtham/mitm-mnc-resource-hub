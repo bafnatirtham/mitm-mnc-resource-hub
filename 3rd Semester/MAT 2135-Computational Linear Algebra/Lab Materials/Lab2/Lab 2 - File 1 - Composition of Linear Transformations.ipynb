{
 "cells": [
  {
   "cell_type": "code",
   "execution_count": 4,
   "id": "10639586",
   "metadata": {},
   "outputs": [],
   "source": [
    "import numpy as np"
   ]
  },
  {
   "cell_type": "code",
   "execution_count": 5,
   "id": "70786aa8",
   "metadata": {},
   "outputs": [],
   "source": [
    "# ----------------------------------------\n",
    "# Define linear transformations as functions\n",
    "# ----------------------------------------\n",
    "\n",
    "def T1(v):\n",
    "    \"\"\"\n",
    "    Linear transformation T1: Scaling\n",
    "    Doubles the x-coordinate, keeps y the same\n",
    "    \"\"\"\n",
    "    x, y = v\n",
    "    return np.array([2*x, y])\n",
    "\n",
    "def T2(v):\n",
    "    \"\"\"\n",
    "    Linear transformation T2: Rotation by 90 degrees counterclockwise\n",
    "    (x, y) -> (-y, x)\n",
    "    \"\"\"\n",
    "    x, y = v\n",
    "    return np.array([-y, x])"
   ]
  },
  {
   "cell_type": "code",
   "execution_count": 12,
   "id": "53c5448f",
   "metadata": {},
   "outputs": [],
   "source": [
    "# Composition of functions\n",
    "def composition(v):\n",
    "    return T2(T1(v))\n",
    "\n",
    "# eg: T2(T1(0,1))--> T2(0,1)--> (-1,0)"
   ]
  },
  {
   "cell_type": "code",
   "execution_count": 16,
   "id": "6fdc6aa7",
   "metadata": {},
   "outputs": [
    {
     "name": "stdout",
     "output_type": "stream",
     "text": [
      "Matrix for T1:\n",
      " [[2 0]\n",
      " [0 1]]\n",
      "Matrix for T2:\n",
      " [[ 0 -1]\n",
      " [ 1  0]]\n",
      "Matrix product M2*M1:\n",
      " [[ 0 -1]\n",
      " [ 2  0]]\n"
     ]
    }
   ],
   "source": [
    "# ----------------------------------------\n",
    "# Derive the matrices for T1 and T2\n",
    "# (using the images of the basis vectors e1=(1,0), e2=(0,1))\n",
    "# ----------------------------------------\n",
    "\n",
    "e1 = np.array([1, 0])\n",
    "e2 = np.array([0, 1])\n",
    "\n",
    "# Build matrices column by column\n",
    "M1 = np.column_stack((T1(e1), T1(e2)))\n",
    "M2 = np.column_stack((T2(e1), T2(e2)))\n",
    "\n",
    "M_combined = M2 @ M1\n",
    "\n",
    "print(\"Matrix for T1:\\n\", M1)\n",
    "print(\"Matrix for T2:\\n\", M2)\n",
    "print(\"Matrix product M2*M1:\\n\", M_combined)\n"
   ]
  },
  {
   "cell_type": "code",
   "execution_count": 9,
   "id": "6be00697",
   "metadata": {},
   "outputs": [],
   "source": [
    "# Function to apply the matrix product on a vector\n",
    "def matrix_function(v):\n",
    "    return M_combined @ v"
   ]
  },
  {
   "cell_type": "code",
   "execution_count": 10,
   "id": "429b2551",
   "metadata": {},
   "outputs": [
    {
     "name": "stdout",
     "output_type": "stream",
     "text": [
      "Comparing (T2 ∘ T1)(v) with (M2 M1)(v):\n",
      "\n",
      "Input: [1 0]\n",
      "  Composition result = [0 2]\n",
      "  Matrix product result = [0 2]\n",
      "  Same? True\n",
      "\n",
      "Input: [0 1]\n",
      "  Composition result = [-1  0]\n",
      "  Matrix product result = [-1  0]\n",
      "  Same? True\n",
      "\n",
      "Input: [1 2]\n",
      "  Composition result = [-2  2]\n",
      "  Matrix product result = [-2  2]\n",
      "  Same? True\n",
      "\n",
      "Input: [-1  3]\n",
      "  Composition result = [-3 -2]\n",
      "  Matrix product result = [-3 -2]\n",
      "  Same? True\n",
      "\n"
     ]
    }
   ],
   "source": [
    "# ----------------------------------------\n",
    "# Test on several inputs\n",
    "# ----------------------------------------\n",
    "vectors = [np.array([1,0]), np.array([0,1]), np.array([1,2]), np.array([-1,3])]\n",
    "\n",
    "print(\"Comparing (T2 ∘ T1)(v) with (M2 M1)(v):\\n\")\n",
    "for v in vectors:\n",
    "    f1 = composition(v)\n",
    "    f2 = matrix_function(v)\n",
    "    print(f\"Input: {v}\")\n",
    "    print(f\"  Composition result = {f1}\")\n",
    "    print(f\"  Matrix product result = {f2}\")\n",
    "    print(f\"  Same? {np.array_equal(f1, f2)}\\n\")"
   ]
  },
  {
   "cell_type": "code",
   "execution_count": 17,
   "id": "7c51fdea",
   "metadata": {},
   "outputs": [
    {
     "ename": "NameError",
     "evalue": "name 'v1' is not defined",
     "output_type": "error",
     "traceback": [
      "\u001b[1;31m---------------------------------------------------------------------------\u001b[0m",
      "\u001b[1;31mNameError\u001b[0m                                 Traceback (most recent call last)",
      "\u001b[1;32m~\\AppData\\Local\\Temp\\ipykernel_18936\\2246968755.py\u001b[0m in \u001b[0;36m<module>\u001b[1;34m\u001b[0m\n\u001b[0;32m      3\u001b[0m \u001b[1;33m\u001b[0m\u001b[0m\n\u001b[0;32m      4\u001b[0m \u001b[1;31m# Define vectors\u001b[0m\u001b[1;33m\u001b[0m\u001b[1;33m\u001b[0m\u001b[0m\n\u001b[1;32m----> 5\u001b[1;33m \u001b[0mvectors\u001b[0m \u001b[1;33m=\u001b[0m \u001b[1;33m[\u001b[0m\u001b[0mv\u001b[0m\u001b[1;33m,\u001b[0m \u001b[0mv1\u001b[0m\u001b[1;33m,\u001b[0m \u001b[0mv2\u001b[0m\u001b[1;33m,\u001b[0m \u001b[0mv3\u001b[0m\u001b[1;33m,\u001b[0m \u001b[0mv4\u001b[0m\u001b[1;33m]\u001b[0m\u001b[1;33m\u001b[0m\u001b[1;33m\u001b[0m\u001b[0m\n\u001b[0m\u001b[0;32m      6\u001b[0m \u001b[0mcolors\u001b[0m \u001b[1;33m=\u001b[0m \u001b[1;33m[\u001b[0m\u001b[1;34m'r'\u001b[0m\u001b[1;33m,\u001b[0m \u001b[1;34m'g'\u001b[0m\u001b[1;33m,\u001b[0m \u001b[1;34m'b'\u001b[0m\u001b[1;33m,\u001b[0m \u001b[1;34m'c'\u001b[0m\u001b[1;33m,\u001b[0m \u001b[1;34m'm'\u001b[0m\u001b[1;33m]\u001b[0m\u001b[1;33m\u001b[0m\u001b[1;33m\u001b[0m\u001b[0m\n\u001b[0;32m      7\u001b[0m \u001b[0mlabels\u001b[0m \u001b[1;33m=\u001b[0m \u001b[1;33m[\u001b[0m\u001b[1;34m'v'\u001b[0m\u001b[1;33m,\u001b[0m \u001b[1;34m'v1'\u001b[0m\u001b[1;33m,\u001b[0m \u001b[1;34m'v2'\u001b[0m\u001b[1;33m,\u001b[0m \u001b[1;34m'v3'\u001b[0m\u001b[1;33m,\u001b[0m \u001b[1;34m'v4'\u001b[0m\u001b[1;33m]\u001b[0m\u001b[1;33m\u001b[0m\u001b[1;33m\u001b[0m\u001b[0m\n",
      "\u001b[1;31mNameError\u001b[0m: name 'v1' is not defined"
     ]
    }
   ],
   "source": []
  },
  {
   "cell_type": "code",
   "execution_count": null,
   "id": "210b8355",
   "metadata": {},
   "outputs": [],
   "source": []
  }
 ],
 "metadata": {
  "kernelspec": {
   "display_name": "Python [conda env:base] *",
   "language": "python",
   "name": "conda-base-py"
  },
  "language_info": {
   "codemirror_mode": {
    "name": "ipython",
    "version": 3
   },
   "file_extension": ".py",
   "mimetype": "text/x-python",
   "name": "python",
   "nbconvert_exporter": "python",
   "pygments_lexer": "ipython3",
   "version": "3.12.7"
  }
 },
 "nbformat": 4,
 "nbformat_minor": 5
}
