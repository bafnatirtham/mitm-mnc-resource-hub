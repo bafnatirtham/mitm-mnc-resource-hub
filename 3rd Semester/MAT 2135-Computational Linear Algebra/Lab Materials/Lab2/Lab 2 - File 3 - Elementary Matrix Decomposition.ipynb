{
 "cells": [
  {
   "cell_type": "code",
   "execution_count": 1,
   "id": "cbb493d9",
   "metadata": {},
   "outputs": [],
   "source": [
    "import numpy as np"
   ]
  },
  {
   "cell_type": "code",
   "execution_count": 2,
   "id": "cb109efc",
   "metadata": {},
   "outputs": [],
   "source": [
    "def elementary_decomposition(A):\n",
    "    A = np.array(A, dtype=float)\n",
    "    n = A.shape[0]\n",
    "    \n",
    "    # Store inverses of elementary matrices\n",
    "    elementary_matrices = []\n",
    "    \n",
    "    # Step 1: Scale first row\n",
    "    if A[0,0] != 1:\n",
    "        E1_inv = np.eye(n)\n",
    "        E1_inv[0,0] = A[0,0]\n",
    "        elementary_matrices.append(E1_inv)\n",
    "        A[0] = A[0] / A[0,0]\n",
    "    \n",
    "    # Step 2: Eliminate below pivot\n",
    "    if A[1,0] != 0:\n",
    "        factor = A[1,0]\n",
    "        E2_inv = np.eye(n)\n",
    "        E2_inv[1,0] = factor\n",
    "        elementary_matrices.append(E2_inv)\n",
    "        A[1] = A[1] - factor * A[0]\n",
    "    \n",
    "    # Step 3: Scale second row\n",
    "    if A[1,1] != 1:\n",
    "        E3_inv = np.eye(n)\n",
    "        E3_inv[1,1] = A[1,1]\n",
    "        elementary_matrices.append(E3_inv)\n",
    "        A[1] = A[1] / A[1,1]\n",
    "    \n",
    "    # Step 4: Eliminate above pivot\n",
    "    if A[0,1] != 0:\n",
    "        factor = A[0,1]\n",
    "        E4_inv = np.eye(n)\n",
    "        E4_inv[0,1] = factor\n",
    "        elementary_matrices.append(E4_inv)\n",
    "        A[0] = A[0] - factor * A[1]\n",
    "    \n",
    "    return elementary_matrices"
   ]
  },
  {
   "cell_type": "code",
   "execution_count": 3,
   "id": "9abce172",
   "metadata": {},
   "outputs": [],
   "source": [
    "# Example matrix\n",
    "A = [[4, 3],[2, 1]]\n",
    "matrices = elementary_decomposition(A)"
   ]
  },
  {
   "cell_type": "code",
   "execution_count": 4,
   "id": "dbd45575",
   "metadata": {},
   "outputs": [],
   "source": [
    "# Verify the product\n",
    "product = np.eye(2)\n",
    "for M in matrices:\n",
    "    product = product @ M"
   ]
  },
  {
   "cell_type": "code",
   "execution_count": 5,
   "id": "002b20aa",
   "metadata": {},
   "outputs": [
    {
     "name": "stdout",
     "output_type": "stream",
     "text": [
      "Elementary matrices (in order):\n",
      "E1^-1:\n",
      "[[4. 0.]\n",
      " [0. 1.]]\n",
      "\n",
      "E2^-1:\n",
      "[[1. 0.]\n",
      " [2. 1.]]\n",
      "\n",
      "E3^-1:\n",
      "[[ 1.   0. ]\n",
      " [ 0.  -0.5]]\n",
      "\n",
      "E4^-1:\n",
      "[[1.   0.75]\n",
      " [0.   1.  ]]\n",
      "\n",
      "Product of elementary matrices:\n",
      "[[4. 3.]\n",
      " [2. 1.]]\n"
     ]
    }
   ],
   "source": [
    "print(\"Elementary matrices (in order):\")\n",
    "for i, M in enumerate(matrices, start=1):\n",
    "    print(f\"E{i}^-1:\\n{M}\\n\")\n",
    "\n",
    "print(\"Product of elementary matrices:\")\n",
    "print(product)"
   ]
  },
  {
   "cell_type": "code",
   "execution_count": null,
   "id": "84e5d8fb",
   "metadata": {},
   "outputs": [],
   "source": []
  }
 ],
 "metadata": {
  "kernelspec": {
   "display_name": "Python [conda env:base] *",
   "language": "python",
   "name": "conda-base-py"
  },
  "language_info": {
   "codemirror_mode": {
    "name": "ipython",
    "version": 3
   },
   "file_extension": ".py",
   "mimetype": "text/x-python",
   "name": "python",
   "nbconvert_exporter": "python",
   "pygments_lexer": "ipython3",
   "version": "3.12.7"
  }
 },
 "nbformat": 4,
 "nbformat_minor": 5
}
