{
 "cells": [
  {
   "cell_type": "markdown",
   "id": "f890374d",
   "metadata": {},
   "source": [
    "## EXERCISES\n",
    "\n",
    "\n",
    "1. Fit <font size=\"4\">  $y = A + B \\frac{x}{\\log_{10} x}$ </font>  for $\\pi(x)$ by taking data of $\\pi(x)$ for $x = 100, 200, 300, 400, 500, 600, 700, 800, 900, 1000$. Predict $\\pi(10^{10})$ using the model.\n",
    "\n",
    "<br><br>\n",
    "\n",
    "2. Fit <font size=\"5\">  $y = \\frac{x}{A \\log x + B}$ </font> for $\\pi(x)$ by taking data of $\\pi(x)$ for $x = 100, 200, 300, 400, 500, 600, 700, 800, 900, 1000$. Predict $\\pi(10^{10})$ using the model.\n",
    "\n",
    "<br><br>\n",
    "\n",
    "3. Legendre (Mathematician, 1752 AD - 1833 AD; no computers during the period) gave $A = 1$, $B = -1.08366$ for the model <font size=\"5\">  $y = \\frac{x}{A \\log x + B}$ </font>. \n",
    "\n",
    "Fit the model <font size=\"5\">  $y = \\frac{x}{A \\log x + B}$ </font> with suitable data/techniques such that you get the values of $A$ and $B$ as close as possible to the values given by Legendre. Also, predict $\\pi(10^{10})$ using your model."
   ]
  },
  {
   "cell_type": "code",
   "execution_count": null,
   "id": "46928fd3",
   "metadata": {},
   "outputs": [],
   "source": []
  },
  {
   "cell_type": "markdown",
   "id": "0b345285",
   "metadata": {},
   "source": [
    "## 1. Fit <font size=\"4\">  $y = A + B \\frac{x}{\\log_{10} x}$ </font>  for $\\pi(x)$ by taking data of $\\pi(x)$ for $x = 100, 200, 300, 400, 500, 600, 700, 800, 900, 1000$. Predict $\\pi(10^{10})$ using the model.\n"
   ]
  },
  {
   "cell_type": "code",
   "execution_count": 37,
   "id": "3edf8301",
   "metadata": {},
   "outputs": [],
   "source": [
    "import numpy as np, math\n"
   ]
  },
  {
   "cell_type": "code",
   "execution_count": 38,
   "id": "f0c969b4",
   "metadata": {},
   "outputs": [],
   "source": [
    "def sieve_bool_array(n: int) -> list[bool]:\n",
    "    \"\"\"Return a boolean list where True means prime, up to n.\"\"\"\n",
    "    if n < 2:\n",
    "        return [False] * (n + 1)\n",
    "\n",
    "    is_prime = [True] * (n + 1)\n",
    "    is_prime[0] = is_prime[1] = False\n",
    "\n",
    "    p = 2\n",
    "    while p * p <= n:\n",
    "        if is_prime[p]:\n",
    "            for multiple in range(p * p, n + 1, p):\n",
    "                is_prime[multiple] = False\n",
    "        p += 1\n",
    "    return is_prime\n",
    "\n",
    "\n",
    "def prime_pi_data_range(start_x: int, end_x: int, step: int) -> tuple[list[int], list[int]]:\n",
    "    \"\"\"\n",
    "    Generate (x_list, pi_list) where:\n",
    "      x_list = [start_x, start_x+step, ..., end_x]\n",
    "      pi_list = [pi(x) for x in x_list]\n",
    "\n",
    "    Parameters:\n",
    "        start_x (int): Starting x value (>= 1).\n",
    "        end_x   (int): Ending x value.\n",
    "        step    (int): Step size for x values.\n",
    "\n",
    "    Returns:\n",
    "        tuple[list[int], list[int]]\n",
    "    \"\"\"\n",
    "    # Safety check\n",
    "    if start_x < 1:\n",
    "        start_x = 1\n",
    "    if step <= 0:\n",
    "        raise ValueError(\"Step size must be positive.\")\n",
    "    if end_x < start_x:\n",
    "        return [], []\n",
    "\n",
    "    # Step 1: Sieve up to end_x\n",
    "    is_prime = sieve_bool_array(end_x)\n",
    "\n",
    "    # Step 2: Precompute pi(x)\n",
    "    pi = [0] * (end_x + 1)\n",
    "    count = 0\n",
    "    for i in range(1, end_x + 1):\n",
    "        if is_prime[i]:\n",
    "            count += 1\n",
    "        pi[i] = count\n",
    "\n",
    "    # Step 3: Build x_list and pi_list\n",
    "    x_list = list(range(start_x, end_x + 1, step))\n",
    "    pi_list = [pi[x] for x in x_list]\n",
    "\n",
    "    return x_list, pi_list\n"
   ]
  },
  {
   "cell_type": "code",
   "execution_count": 39,
   "id": "5d05b5da",
   "metadata": {},
   "outputs": [
    {
     "name": "stdout",
     "output_type": "stream",
     "text": [
      "x_list: [100, 200, 300, 400, 500, 600, 700, 800, 900, 1000]\n",
      "pi_list: [25, 46, 62, 78, 95, 109, 125, 139, 154, 168]\n"
     ]
    }
   ],
   "source": [
    "x_list, pi_list = prime_pi_data_range(100,1000,100)\n",
    "print(\"x_list:\", x_list)\n",
    "print(\"pi_list:\", pi_list)        \n",
    "x = np.array(x_list, dtype=float)\n",
    "y = np.array(pi_list, dtype=float)\n",
    "assert np.all(x>1) and np.all(y>0), 'Require x>1 and y>0'\n"
   ]
  },
  {
   "cell_type": "code",
   "execution_count": 40,
   "id": "3c952856",
   "metadata": {},
   "outputs": [
    {
     "name": "stdout",
     "output_type": "stream",
     "text": [
      "Model (i) parameters: A = 1.217713, B = 1.154259\n",
      "Least squares error = 4.694194\n"
     ]
    }
   ],
   "source": [
    "# Build regressor z = x/log x\n",
    "z = x/np.log(x)\n",
    "n = len(x)\n",
    "Sz, Sy = z.sum(), y.sum()\n",
    "Sz2 = (z*z).sum()\n",
    "Szy = (z*y).sum()\n",
    "Den = n*Sz2 - Sz*Sz\n",
    "A1 = (Sy*Sz2 - Sz*Szy) / Den\n",
    "B1 = (n*Szy - Sz*Sy) / Den\n",
    "print(f'Model (i) parameters: A = {A1:.6f}, B = {B1:.6f}')\n",
    "y_pred = A1 + B1*z\n",
    "lse = ((y - y_pred)**2).sum()\n",
    "print(f\"Least squares error = {lse:.6f}\")"
   ]
  },
  {
   "cell_type": "code",
   "execution_count": 41,
   "id": "a57f68bf",
   "metadata": {},
   "outputs": [
    {
     "name": "stdout",
     "output_type": "stream",
     "text": [
      "Prediction: pi(10000000000) ≈ 501288435.53\n"
     ]
    }
   ],
   "source": [
    "# Example prediction at x = 10^10\n",
    "x_new = 10**10\n",
    "z_new = x_new / np.log(x_new)\n",
    "y_pred_new = A1 + B1 * z_new\n",
    "print(f\"Prediction: pi({x_new}) ≈ {y_pred_new:.2f}\")"
   ]
  },
  {
   "cell_type": "code",
   "execution_count": 42,
   "id": "7281aea8",
   "metadata": {},
   "outputs": [
    {
     "data": {
      "image/png": "[encoded data removed]",
      "text/plain": [
       "<Figure size 700x500 with 1 Axes>"
      ]
     },
     "metadata": {},
     "output_type": "display_data"
    }
   ],
   "source": [
    "# Plot for Model (i)\n",
    "import matplotlib.pyplot as plt\n",
    "xplot = np.linspace(min(x), max(x), 500)\n",
    "yhat1 = A1 + B1*(xplot/np.log(xplot))\n",
    "plt.figure(figsize=(7,5))\n",
    "plt.scatter(x, y, color='black', label='Data: π(x)')\n",
    "plt.plot(xplot, yhat1, color='tab:blue', label=f'Fit: A={A1:.6f}, B={B1:.6f}')\n",
    "plt.xlabel('x')\n",
    "plt.ylabel('π(x)')\n",
    "plt.title('Model (i): y = A + B·x/log x')\n",
    "plt.legend()\n",
    "plt.grid(True, alpha=0.4)\n",
    "plt.show()\n"
   ]
  },
  {
   "cell_type": "markdown",
   "id": "a0bf5761",
   "metadata": {},
   "source": [
    "## 2. Fit <font size=\"5\">  $y = \\frac{x}{A \\log x + B}$ </font> for $\\pi(x)$ by taking data of $\\pi(x)$ for $x = 100, 200, 300, 400, 500, 600, 700, 800, 900, 1000$. Predict $\\pi(10^{10})$ using the model."
   ]
  },
  {
   "cell_type": "code",
   "execution_count": 43,
   "id": "a9100e1d",
   "metadata": {},
   "outputs": [],
   "source": [
    "import numpy as np\n",
    "\n",
    "def legendre_fit_linearized(xs, pis):\n",
    "    \"\"\"\n",
    "    Fit A, B in x/pi(x) ≈ A ln x + B by OLS on (ln x, x/pi(x)),\n",
    "    using the explicit normal-equation solution:\n",
    "        beta = (X^T X)^(-1) (X^T y).\n",
    "    \n",
    "    Also computes:\n",
    "      - least-squares error (RSS) in the linearized space y vs A ln x + B,\n",
    "      - actual errors for the prime counting function on the same x:\n",
    "          abs_err[i] = pi_hat(x_i) - pi(x_i)\n",
    "          rel_err[i] = abs_err[i] / pi(x_i)\n",
    "\n",
    "    Parameters\n",
    "    ----------\n",
    "    xs : array-like\n",
    "        x values (e.g., [10, 100, 1000, 10000]).\n",
    "    pis : array-like\n",
    "        corresponding pi(x) values (e.g., [4, 25, 168, 1229]).\n",
    "\n",
    "    Returns\n",
    "    -------\n",
    "    A : float\n",
    "    B : float\n",
    "    ls_rss : float\n",
    "        Residual sum of squares in the linearized fit (y vs A ln x + B).\n",
    "    pi_abs_err : np.ndarray\n",
    "        Absolute errors for pi(x): pi_hat(x) - pi_true(x), for the filtered points.\n",
    "    pi_rel_err : np.ndarray\n",
    "        Relative errors for pi(x): (pi_hat - pi_true) / pi_true, for the filtered points.\n",
    "\n",
    "    Notes\n",
    "    -----\n",
    "    - Only points with x >= 3 and pi(x) > 0 are used (to avoid log/division issues).\n",
    "    - The order of error arrays corresponds to the filtered xs.\n",
    "    - For numerical robustness, QR/SVD or `np.linalg.solve` are preferred in general,\n",
    "      but here we use the explicit inverse as requested.\n",
    "    \"\"\"\n",
    "    # Convert inputs to 1D float arrays (so Python lists work too)\n",
    "    xs = np.asarray(xs, dtype=float).ravel()\n",
    "    pis = np.asarray(pis, dtype=float).ravel()\n",
    "\n",
    "    if xs.shape != pis.shape:\n",
    "        raise ValueError(f\"xs and pis must have the same shape; got {xs.shape} vs {pis.shape}\")\n",
    "\n",
    "    # Filter valid points\n",
    "    mask = (xs >= 3) & (pis > 0)\n",
    "    if mask.sum() < 2:\n",
    "        raise ValueError(\"Need at least two valid points with x >= 3 and pi(x) > 0.\")\n",
    "\n",
    "    x = xs[mask]\n",
    "    pi_true = pis[mask]\n",
    "    t = np.log(x)\n",
    "    y = x / pi_true\n",
    "\n",
    "    # Design matrix: columns [ln x, 1]\n",
    "    X = np.column_stack([t, np.ones_like(t)])\n",
    "\n",
    "    # Explicit normal-equation solution: beta = (X^T X)^(-1) (X^T y)\n",
    "    XtX = X.T @ X\n",
    "    Xty = X.T @ y\n",
    "\n",
    "    # Optional: warn if ill-conditioned (we proceed with inverse as requested)\n",
    "    cond = np.linalg.cond(XtX)\n",
    "    if not np.isfinite(cond):\n",
    "        raise np.linalg.LinAlgError(\"X^T X is singular or not finite.\")\n",
    "    # Proceed with explicit inverse\n",
    "    beta = np.linalg.inv(XtX) @ Xty\n",
    "\n",
    "    A, B = float(beta[0]), float(beta[1])\n",
    "\n",
    "    # Least-squares error (RSS) in the linearized space\n",
    "    y_hat = X @ beta\n",
    "    resid = y - y_hat\n",
    "    ls_rss = float(np.sum(resid**2))\n",
    "\n",
    "    # Actual errors for pi(x): compare pi_hat(x) vs pi_true(x)\n",
    "    denom = A * t + B\n",
    "    pi_hat = x / denom\n",
    "    pi_abs_err = pi_hat - pi_true\n",
    "    actual_error = float(np.sum(pi_abs_err**2))\n",
    "    \n",
    "\n",
    "    return A, B, ls_rss, actual_error"
   ]
  },
  {
   "cell_type": "code",
   "execution_count": 44,
   "id": "887b3be9",
   "metadata": {},
   "outputs": [
    {
     "name": "stdout",
     "output_type": "stream",
     "text": [
      "[100, 200, 300, 400, 500, 600, 700, 800, 900, 1000]\n",
      "[25, 46, 62, 78, 95, 109, 125, 139, 154, 168]\n",
      "A= 0.8865424555503552  B= -0.19830734380406057\n",
      "Least squares error:  0.04180636276582439\n",
      "Actual error:  5.351592972633165\n"
     ]
    }
   ],
   "source": [
    "xs, pis = prime_pi_data_range(100,1000,100)  \n",
    "print(xs)\n",
    "print(pis)\n",
    "\n",
    "A, B, ls_rss, actual_error = legendre_fit_linearized(xs, pis)\n",
    "print(\"A=\",A,\" B=\",B)\n",
    "print(\"Least squares error: \",ls_rss)\n",
    "print(\"Actual error: \",actual_error)"
   ]
  },
  {
   "cell_type": "code",
   "execution_count": 45,
   "id": "315ceb6e",
   "metadata": {},
   "outputs": [
    {
     "name": "stdout",
     "output_type": "stream",
     "text": [
      "Prediction: pi(10000000000) ≈ 494680035.76\n",
      "Actual Correct Value of PrimePi(10^10):  455052511\n"
     ]
    }
   ],
   "source": [
    "# Example prediction at x = 10^10\n",
    "x_new = 10**10\n",
    "t_new = np.log(x_new)\n",
    "y_pred = A * t_new + B\n",
    "pi_x_pred = x_new/y_pred\n",
    "print(f\"Prediction: pi({x_new}) ≈ {pi_x_pred:.2f}\")\n",
    "print(\"Actual Correct Value of PrimePi(10^10): \",455052511)"
   ]
  },
  {
   "cell_type": "markdown",
   "id": "dc0a5529",
   "metadata": {},
   "source": [
    "## 3. Legendre (Mathematician, 1752 AD - 1833 AD; no computers during the period) gave $A = 1$, $B = -1.08366$ for the model <font size=\"5\">  $y = \\frac{x}{A \\log x + B}$ </font>. \n",
    "\n",
    "## Fit the model <font size=\"5\">  $y = \\frac{x}{A \\log x + B}$ </font> with suitable data/techniques such that you get the values of $A$ and $B$ as close as possible to the values given by Legendre. Also, predict $\\pi(10^{10})$ using your model."
   ]
  },
  {
   "cell_type": "code",
   "execution_count": 612,
   "id": "41327fab",
   "metadata": {},
   "outputs": [],
   "source": [
    "# More detailed data with intermediate values and known pi(x) from tables\n",
    "x1,p1=prime_pi_data_range(10,10**6,6000)\n",
    "x2,p2=prime_pi_data_range(1000000,10**7,30)\n",
    "\n",
    "xf=x1+x2\n",
    "pf=p1+p2"
   ]
  },
  {
   "cell_type": "code",
   "execution_count": 613,
   "id": "f2461883",
   "metadata": {},
   "outputs": [
    {
     "name": "stdout",
     "output_type": "stream",
     "text": [
      "A= 1.003321860515257  B= -1.1268464408749423\n",
      "Least squares error:  2.3434873904969953\n",
      "Actual error:  276229557.663997\n"
     ]
    }
   ],
   "source": [
    "A, B, ls_rss, actual_error = legendre_fit_linearized(xf, pf)\n",
    "print(\"A=\",A,\" B=\",B)\n",
    "print(\"Least squares error: \",ls_rss)\n",
    "print(\"Actual error: \",actual_error)"
   ]
  },
  {
   "cell_type": "code",
   "execution_count": 614,
   "id": "287d11e5",
   "metadata": {},
   "outputs": [
    {
     "name": "stdout",
     "output_type": "stream",
     "text": [
      "Prediction: pi(10000000000) ≈ 455052359.00\n",
      "Actual Correct Value of PrimePi(10^10):  455052511\n",
      "-151.99824798107147\n"
     ]
    }
   ],
   "source": [
    "x_new = 10**10\n",
    "t_new = np.log(x_new)\n",
    "y_pred = A * t_new + B\n",
    "pi_x_pred = x_new/y_pred\n",
    "print(f\"Prediction: pi({x_new}) ≈ {pi_x_pred:.2f}\")\n",
    "print(\"Actual Correct Value of PrimePi(10^10): \",455052511)\n",
    "print(pi_x_pred-455052511)"
   ]
  },
  {
   "cell_type": "code",
   "execution_count": null,
   "id": "59b86459",
   "metadata": {},
   "outputs": [],
   "source": []
  },
  {
   "cell_type": "code",
   "execution_count": null,
   "id": "75c25f50",
   "metadata": {},
   "outputs": [],
   "source": []
  }
 ],
 "metadata": {
  "kernelspec": {
   "display_name": "Python 3 (ipykernel)",
   "language": "python",
   "name": "python3"
  },
  "language_info": {
   "codemirror_mode": {
    "name": "ipython",
    "version": 3
   },
   "file_extension": ".py",
   "mimetype": "text/x-python",
   "name": "python",
   "nbconvert_exporter": "python",
   "pygments_lexer": "ipython3",
   "version": "3.9.13"
  }
 },
 "nbformat": 4,
 "nbformat_minor": 5
}
