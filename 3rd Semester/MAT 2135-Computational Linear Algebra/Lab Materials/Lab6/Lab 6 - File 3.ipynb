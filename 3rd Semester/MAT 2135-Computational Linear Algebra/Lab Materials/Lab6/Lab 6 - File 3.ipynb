{
 "cells": [
  {
   "cell_type": "markdown",
   "metadata": {},
   "source": [
    "# Regression for the Prime Counting Function\n",
    "\n",
    "\n",
    "Model: $y = \\dfrac{x}{A \\log x + B}$ (nonlinear; linearized via reciprocals to get a linear regression in $A,B$).\n"
   ]
  },
  {
   "cell_type": "markdown",
   "metadata": {},
   "source": [
    "## Get Data using Sieve of Eratosthenes\n"
   ]
  },
  {
   "cell_type": "code",
   "execution_count": 15,
   "metadata": {},
   "outputs": [],
   "source": [
    "def sieve_bool_array(n: int) -> list[bool]:\n",
    "    \"\"\"Return a boolean list where True means prime, up to n.\"\"\"\n",
    "    if n < 2:\n",
    "        return [False] * (n + 1)\n",
    "\n",
    "    is_prime = [True] * (n + 1)\n",
    "    is_prime[0] = is_prime[1] = False\n",
    "\n",
    "    p = 2\n",
    "    while p * p <= n:\n",
    "        if is_prime[p]:\n",
    "            for multiple in range(p * p, n + 1, p):\n",
    "                is_prime[multiple] = False\n",
    "        p += 1\n",
    "    return is_prime\n",
    "\n",
    "\n",
    "def prime_pi_data_range(start_x: int, end_x: int, step: int) -> tuple[list[int], list[int]]:\n",
    "    \"\"\"\n",
    "    Generate (x_list, pi_list) where:\n",
    "      x_list = [start_x, start_x+step, ..., end_x]\n",
    "      pi_list = [pi(x) for x in x_list]\n",
    "\n",
    "    Parameters:\n",
    "        start_x (int): Starting x value (>= 1).\n",
    "        end_x   (int): Ending x value.\n",
    "        step    (int): Step size for x values.\n",
    "\n",
    "    Returns:\n",
    "        tuple[list[int], list[int]]\n",
    "    \"\"\"\n",
    "    # Safety check\n",
    "    if start_x < 1:\n",
    "        start_x = 1\n",
    "    if step <= 0:\n",
    "        raise ValueError(\"Step size must be positive.\")\n",
    "    if end_x < start_x:\n",
    "        return [], []\n",
    "\n",
    "    # Step 1: Sieve up to end_x\n",
    "    is_prime = sieve_bool_array(end_x)\n",
    "\n",
    "    # Step 2: Precompute pi(x)\n",
    "    pi = [0] * (end_x + 1)\n",
    "    count = 0\n",
    "    for i in range(1, end_x + 1):\n",
    "        if is_prime[i]:\n",
    "            count += 1\n",
    "        pi[i] = count\n",
    "\n",
    "    # Step 3: Build x_list and pi_list\n",
    "    x_list = list(range(start_x, end_x + 1, step))\n",
    "    pi_list = [pi[x] for x in x_list]\n",
    "\n",
    "    return x_list, pi_list\n",
    "\n"
   ]
  },
  {
   "cell_type": "code",
   "execution_count": 16,
   "metadata": {},
   "outputs": [],
   "source": [
    "def count_primes_upto_n(n) -> int:\n",
    "    return sum(sieve_bool_array(n))"
   ]
  },
  {
   "cell_type": "code",
   "execution_count": 17,
   "metadata": {},
   "outputs": [],
   "source": [
    "import numpy as np, math\n",
    "# --- User input ---\n",
    "x_list, pi_list = prime_pi_data_range(2,10**5,5)  # Input: (start, end, step-size)\n",
    "#print(\"x_list:\", x_list)\n",
    "#print(\"pi_list:\", pi_list)        \n",
    "x = np.array(x_list, dtype=float)\n",
    "y = np.array(pi_list, dtype=float)\n",
    "assert np.all(x>1) and np.all(y>0), 'Require x>1 and y>0'\n"
   ]
  },
  {
   "cell_type": "code",
   "execution_count": 18,
   "metadata": {},
   "outputs": [],
   "source": [
    "import numpy as np\n",
    "\n",
    "def legendre_fit_linearized(xs, pis):\n",
    "    \"\"\"\n",
    "    Fit A, B in x/pi(x) ≈ A ln x + B by OLS on (ln x, x/pi(x)),\n",
    "    using the explicit normal-equation solution:\n",
    "        beta = (X^T X)^(-1) (X^T y).\n",
    "    \n",
    "    Also computes:\n",
    "      - least-squares error (RSS) in the linearized space y vs A ln x + B,\n",
    "      - actual errors for the prime counting function on the same x:\n",
    "          abs_err[i] = pi_hat(x_i) - pi(x_i)\n",
    "          rel_err[i] = abs_err[i] / pi(x_i)\n",
    "\n",
    "    Parameters\n",
    "    ----------\n",
    "    xs : array-like\n",
    "        x values (e.g., [10, 100, 1000, 10000]).\n",
    "    pis : array-like\n",
    "        corresponding pi(x) values (e.g., [4, 25, 168, 1229]).\n",
    "\n",
    "    Returns\n",
    "    -------\n",
    "    A : float\n",
    "    B : float\n",
    "    ls_rss : float\n",
    "        Residual sum of squares in the linearized fit (y vs A ln x + B).\n",
    "    pi_abs_err : np.ndarray\n",
    "        Absolute errors for pi(x): pi_hat(x) - pi_true(x), for the filtered points.\n",
    "    pi_rel_err : np.ndarray\n",
    "        Relative errors for pi(x): (pi_hat - pi_true) / pi_true, for the filtered points.\n",
    "\n",
    "    Notes\n",
    "    -----\n",
    "    - Only points with x >= 3 and pi(x) > 0 are used (to avoid log/division issues).\n",
    "    - The order of error arrays corresponds to the filtered xs.\n",
    "    - For numerical robustness, QR/SVD or `np.linalg.solve` are preferred in general,\n",
    "      but here we use the explicit inverse as requested.\n",
    "    \"\"\"\n",
    "    # Convert inputs to 1D float arrays (so Python lists work too)\n",
    "    xs = np.asarray(xs, dtype=float).ravel()\n",
    "    pis = np.asarray(pis, dtype=float).ravel()\n",
    "\n",
    "    if xs.shape != pis.shape:\n",
    "        raise ValueError(f\"xs and pis must have the same shape; got {xs.shape} vs {pis.shape}\")\n",
    "\n",
    "    # Filter valid points\n",
    "    mask = (xs >= 3) & (pis > 0)\n",
    "    if mask.sum() < 2:\n",
    "        raise ValueError(\"Need at least two valid points with x >= 3 and pi(x) > 0.\")\n",
    "\n",
    "    x = xs[mask]\n",
    "    pi_true = pis[mask]\n",
    "    t = np.log(x)\n",
    "    y = x / pi_true\n",
    "\n",
    "    # Design matrix: columns [ln x, 1]\n",
    "    X = np.column_stack([t, np.ones_like(t)])\n",
    "\n",
    "    # Explicit normal-equation solution: beta = (X^T X)^(-1) (X^T y)\n",
    "    XtX = X.T @ X\n",
    "    Xty = X.T @ y\n",
    "\n",
    "    # Optional: warn if ill-conditioned (we proceed with inverse as requested)\n",
    "    cond = np.linalg.cond(XtX)\n",
    "    if not np.isfinite(cond):\n",
    "        raise np.linalg.LinAlgError(\"X^T X is singular or not finite.\")\n",
    "    # Proceed with explicit inverse\n",
    "    beta = np.linalg.inv(XtX) @ Xty\n",
    "\n",
    "    A, B = float(beta[0]), float(beta[1])\n",
    "\n",
    "    # Least-squares error (RSS) in the linearized space\n",
    "    y_hat = X @ beta\n",
    "    resid = y - y_hat\n",
    "    ls_rss = float(np.sum(resid**2))\n",
    "\n",
    "    # Actual errors for pi(x): compare pi_hat(x) vs pi_true(x)\n",
    "    denom = A * t + B\n",
    "    pi_hat = x / denom\n",
    "    pi_abs_err = pi_hat - pi_true\n",
    "    actual_error = float(np.sum(pi_abs_err**2))\n",
    "    \n",
    "\n",
    "    return A, B, ls_rss, actual_error"
   ]
  },
  {
   "cell_type": "code",
   "execution_count": 19,
   "metadata": {},
   "outputs": [
    {
     "name": "stdout",
     "output_type": "stream",
     "text": [
      "A= 0.9373449309795204  B= -0.5071917173860345\n",
      "Least squares error:  3.0839838412452227\n",
      "Actual error:  9744.656453499883\n"
     ]
    }
   ],
   "source": [
    "xs, pis = prime_pi_data_range(2,10000,5)  \n",
    "\n",
    "\n",
    "A, B, ls_rss, actual_error = legendre_fit_linearized(xs, pis)\n",
    "print(\"A=\",A,\" B=\",B)\n",
    "print(\"Least squares error: \",ls_rss)\n",
    "print(\"Actual error: \",actual_error)"
   ]
  },
  {
   "cell_type": "code",
   "execution_count": 22,
   "metadata": {},
   "outputs": [
    {
     "name": "stdout",
     "output_type": "stream",
     "text": [
      "Prediction: pi(10000000000) ≈ 474473943.94\n",
      "Actual Correct Value of PrimePi(10^10):  455052511\n"
     ]
    }
   ],
   "source": [
    "# Example prediction at x = 10^10\n",
    "x_new = 10**10\n",
    "t_new = np.log(x_new)\n",
    "y_pred = A * t_new + B\n",
    "pi_x_pred = x_new/y_pred\n",
    "print(f\"Prediction: pi({x_new}) ≈ {pi_x_pred:.2f}\")\n",
    "print(\"Actual Correct Value of PrimePi(10^10): \",455052511)"
   ]
  }
 ],
 "metadata": {
  "kernelspec": {
   "display_name": "Python [conda env:base] *",
   "language": "python",
   "name": "conda-base-py"
  },
  "language_info": {
   "codemirror_mode": {
    "name": "ipython",
    "version": 3
   },
   "file_extension": ".py",
   "mimetype": "text/x-python",
   "name": "python",
   "nbconvert_exporter": "python",
   "pygments_lexer": "ipython3",
   "version": "3.12.7"
  }
 },
 "nbformat": 4,
 "nbformat_minor": 4
}
