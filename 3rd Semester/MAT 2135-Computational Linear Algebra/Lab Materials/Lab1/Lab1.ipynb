{
 "cells": [
  {
   "cell_type": "markdown",
   "id": "b5e69b74",
   "metadata": {},
   "source": [
    "## Name: Tirtham Bafna\n",
    "## RegNo: 240957022\n",
    "## CLA Lab1: Basics\n",
    "## Date: 26/07/2025"
   ]
  },
  {
   "cell_type": "code",
   "execution_count": null,
   "id": "715ac2fa",
   "metadata": {},
   "outputs": [],
   "source": [
    "import numpy as np    \n",
    "import time"
   ]
  },
  {
   "cell_type": "code",
   "execution_count": 3,
   "id": "39c47e7e",
   "metadata": {},
   "outputs": [
    {
     "name": "stdout",
     "output_type": "stream",
     "text": [
      "Matrix A:\n",
      " [[ 1  2  3]\n",
      " [ 4  5  6]\n",
      " [ 7  8  9]\n",
      " [10 11 12]]\n",
      "Order (dimensions) of A:  (4, 3)\n",
      "Number of rows in A:  4\n",
      "Number of columns in A:  3\n"
     ]
    }
   ],
   "source": [
    "# Creating a matrix\n",
    "A = np.array([[1, 2, 3], [4, 5, 6], [7, 8, 9], [10, 11, 12]])\n",
    "print(\"Matrix A:\\n\", A)\n",
    "\n",
    "# Printing the order (dimensions) of the matrix\n",
    "print(\"Order (dimensions) of A: \",A.shape)\n",
    "print(\"Number of rows in A: \",A.shape[0])#rows\n",
    "print(\"Number of columns in A: \",A.shape[1])#columns"
   ]
  },
  {
   "cell_type": "code",
   "execution_count": 7,
   "id": "8514b2c2",
   "metadata": {},
   "outputs": [],
   "source": [
    "def dot_fn(a, b): # Computing the dot product of two vectors using a for loop\n",
    "    if a.shape[0] != b.shape[0]:\n",
    "        print(\"Enter vectors of the same size\")\n",
    "        return\n",
    "    sum = 0\n",
    "    for i in range(a.shape[0]):\n",
    "        sum +=a[i] * b[i]\n",
    "    return sum"
   ]
  },
  {
   "cell_type": "code",
   "execution_count": 8,
   "id": "8d981916",
   "metadata": {},
   "outputs": [
    {
     "name": "stdout",
     "output_type": "stream",
     "text": [
      "dot_fn(a, b) =  24\n"
     ]
    }
   ],
   "source": [
    "# Dot product of two vectors using dot_fn\n",
    "a = np.array([1, 2, 3, 4])\n",
    "b = np.array([-1, 4, 3, 2])\n",
    "c = dot_fn(a, b)\n",
    "print(\"dot_fn(a, b) = \",c)"
   ]
  },
  {
   "cell_type": "code",
   "execution_count": 9,
   "id": "1121dd8e",
   "metadata": {},
   "outputs": [
    {
     "name": "stdout",
     "output_type": "stream",
     "text": [
      "np.dot(a, b) =  24\n",
      "np.dot(b, a) =  24\n"
     ]
    }
   ],
   "source": [
    "# Dot product of two vectors using numpy dot function\n",
    "a = np.array([1, 2, 3, 4])\n",
    "b = np.array([-1, 4, 3, 2])\n",
    "d1 = np.dot(a, b)\n",
    "print(\"np.dot(a, b) = \",d1) \n",
    "d2 = np.dot(b, a)\n",
    "print(\"np.dot(b, a) = \",d2) "
   ]
  },
  {
   "cell_type": "code",
   "execution_count": 15,
   "id": "104882c3",
   "metadata": {},
   "outputs": [
    {
     "name": "stdout",
     "output_type": "stream",
     "text": [
      "Shape of a:  (10000000,)\n",
      "Shape of b:  (10000000,)\n",
      "np.dot(a, b) =  -39561\n",
      "Vectorized version duration:  0.015825271606445312 sec\n",
      "dot_fn(a, b) =  -39561\n",
      "Loop version duration:  2.464677333831787 sec\n",
      "\n",
      "Vectorized code is 155.74 times faster than the for loop code.\n"
     ]
    }
   ],
   "source": [
    "size = 10**7 # Length of the vectors\n",
    "\n",
    "# Set random seed for reproducibility\n",
    "np.random.seed(1)\n",
    "\n",
    "a = np.random.randint(-10, 11, size)  # very large arrays\n",
    "b = np.random.randint(-10, 11, size)\n",
    "#print(a)\n",
    "#print(b)\n",
    "\n",
    "\n",
    "print(\"Shape of a: \",a.shape)\n",
    "print(\"Shape of b: \",b.shape)\n",
    "\n",
    "start_time = time.time()  # capture start time\n",
    "c = np.dot(a, b)\n",
    "end_time = time.time()  # capture end time\n",
    "dot_time = end_time - start_time\n",
    "\n",
    "print(\"np.dot(a, b) = \",c)\n",
    "print(\"Vectorized version duration: \", dot_time,\"sec\")\n",
    "\n",
    "start_time = time.time()  # capture start time\n",
    "c = dot_fn(a,b)\n",
    "end_time = time.time()  # capture end time\n",
    "loop_time = end_time - start_time\n",
    "\n",
    "print(\"dot_fn(a, b) = \",c)\n",
    "print(\"Loop version duration: \", loop_time,\"sec\")\n",
    "\n",
    "\n",
    "speedup = loop_time / dot_time\n",
    "print(f\"\\nVectorized code is {speedup:.2f} times faster than the for loop code.\")"
   ]
  },
  {
   "cell_type": "code",
   "execution_count": 16,
   "id": "5dd0a251",
   "metadata": {},
   "outputs": [
    {
     "name": "stdout",
     "output_type": "stream",
     "text": [
      "BC = \n",
      " [[ 8  5]\n",
      " [14  5]]\n",
      "CB = \n",
      " [[7 9]\n",
      " [8 6]]\n"
     ]
    }
   ],
   "source": [
    "# Numpy dot function can also be used for matrix multiplication\n",
    "\n",
    "B = np.array([[1, 2], [3, 1]])\n",
    "C = np.array([[4, 1], [2, 2]])\n",
    "\n",
    "ProdBC = np.dot(B,C)\n",
    "ProdCB = np.dot(C,B)\n",
    "\n",
    "print(\"BC = \\n\",ProdBC)\n",
    "print(\"CB = \\n\",ProdCB)"
   ]
  },
  {
   "cell_type": "code",
   "execution_count": 17,
   "id": "f06c5eeb",
   "metadata": {},
   "outputs": [
    {
     "name": "stdout",
     "output_type": "stream",
     "text": [
      "[[-1  0]\n",
      " [ 0 -1]]\n"
     ]
    }
   ],
   "source": [
    "i = np.array([[0, -1], [1, 0]])    # Matrix corresponding to complex number i\n",
    "\n",
    "print(np.dot(i, i))"
   ]
  },
  {
   "cell_type": "code",
   "execution_count": 18,
   "id": "8c0ca8ef",
   "metadata": {},
   "outputs": [
    {
     "name": "stdout",
     "output_type": "stream",
     "text": [
      "[ 0 -1]\n"
     ]
    }
   ],
   "source": [
    "i = np.array([[0, -1], [1, 0]]) \n",
    "v = np.array([-1, 0])\n",
    "\n",
    "print(np.dot(i, v))"
   ]
  },
  {
   "cell_type": "markdown",
   "id": "2e58cecf",
   "metadata": {},
   "source": [
    "\n",
    "EXERCISE: \n",
    "\n",
    "Write a code to rotate the vector (0, -1) by 90 degrees. Write your interpretation."
   ]
  },
  {
   "cell_type": "code",
   "execution_count": 27,
   "id": "d2d6151d",
   "metadata": {},
   "outputs": [
    {
     "name": "stdout",
     "output_type": "stream",
     "text": [
      "[1 0] Rotation by 90 degrees anticlockwise\n",
      "[0 1] Rotation by 90 degrees anticlockwise\n",
      "[-1  0] Rotation by 90 degrees anticlockwise\n",
      "Final Original Vector reached\n"
     ]
    }
   ],
   "source": [
    "v=np.array([0,-1])\n",
    "\n",
    "v1=np.dot(i,v)\n",
    "print(v1,\"Rotation by 90 degrees anticlockwise\")\n",
    "v2=np.dot(i,v1)\n",
    "print(v2,\"Rotation by 90 degrees anticlockwise\")\n",
    "v3=np.dot(i,v2)\n",
    "print(v3,\"Rotation by 90 degrees anticlockwise\\nFinal Original Vector reached\")"
   ]
  },
  {
   "cell_type": "markdown",
   "id": "8de40aac",
   "metadata": {},
   "source": [
    "### On considering a 2d space with real numbers on x axis and complex numbers on y axis, we can think of [0,-1] as (0,-i).\n",
    "### Consider a vector stretching to the point (0,-1); when we rotate the vector by 90 degrees anticlockwise the vector will lie on x axis as (0,1)\n",
    "### Further rotation ny 90 degrees will lead to the vector lying on +y axis as (0,1)\n",
    "### The third and final rotation will transform the vector back to the original (-1,0)\n",
    "### These four points are the fourth roots of unity as they form a circle of r=1 in complex coordinates as z=r cos (e^(i.theta))"
   ]
  },
  {
   "cell_type": "code",
   "execution_count": null,
   "id": "e1f59670",
   "metadata": {},
   "outputs": [],
   "source": []
  }
 ],
 "metadata": {
  "kernelspec": {
   "display_name": "Python [conda env:base] *",
   "language": "python",
   "name": "conda-base-py"
  },
  "language_info": {
   "codemirror_mode": {
    "name": "ipython",
    "version": 3
   },
   "file_extension": ".py",
   "mimetype": "text/x-python",
   "name": "python",
   "nbconvert_exporter": "python",
   "pygments_lexer": "ipython3",
   "version": "3.12.7"
  }
 },
 "nbformat": 4,
 "nbformat_minor": 5
}
